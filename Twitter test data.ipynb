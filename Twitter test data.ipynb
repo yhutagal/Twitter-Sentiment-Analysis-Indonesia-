{
 "cells": [
  {
   "cell_type": "code",
   "execution_count": 24,
   "metadata": {},
   "outputs": [],
   "source": [
    "import tweepy\n",
    "from textblob import TextBlob #NLP bahasa inggris\n",
    "import re"
   ]
  },
  {
   "cell_type": "code",
   "execution_count": 25,
   "metadata": {},
   "outputs": [],
   "source": [
    "api_key = 'lVPojMR2imH5BaABAnnsiN0gl'\n",
    "api_key_secret = \"YDcWWE23CdAeHTS0Z5fJgF4xcn2U371TWThQTYiucJgbetYEqN\"\n",
    "access_token = \"998858703347462149-hBqH8IYJH3Wjrq1CnkqCNZ3LiFGXQTc\"\n",
    "access_token_secret = 'okjlUsZC5ggabBUcvmTRlKUHJyOlKMNfSyO6WgJlVPODP'"
   ]
  },
  {
   "cell_type": "code",
   "execution_count": 26,
   "metadata": {},
   "outputs": [],
   "source": [
    "auth = tweepy.OAuthHandler (api_key,api_key_secret)\n",
    "auth.set_access_token (access_token,access_token_secret)\n",
    "#connect to API (new variable)\n",
    "api = tweepy.API(auth)"
   ]
  },
  {
   "cell_type": "code",
   "execution_count": 94,
   "metadata": {},
   "outputs": [],
   "source": [
    "hasilSearch = api.search(q='Indonesia', lang='id', count=100)"
   ]
  },
  {
   "cell_type": "code",
   "execution_count": 98,
   "metadata": {},
   "outputs": [
    {
     "name": "stdout",
     "output_type": "stream",
     "text": [
      "Translation API returned the input string unchanged.\n"
     ]
    }
   ],
   "source": [
    "hasilAnalisis = [] #variabel global\n",
    "\n",
    "for tweet in hasilSearch:\n",
    "    tweet_properties = {}\n",
    "    tweet_properties['tanggal_tweet'] = tweet.created_at\n",
    "    tweet_properties['Nama_pengguna'] = tweet.user.screen_name\n",
    "    tweet_properties['isi_tweet'] = tweet.text\n",
    "    #print(tweet_properties)\n",
    "    '''3 Properties sudah ada..\n",
    "sentimentnya belum ada, bersihin dulu isi tweetnya dengan membuang karakter yg gak perlu semisal\n",
    "1. kata RT (retweet), linknya,, atau karakter @#$ dll yg gak perlu\n",
    "https://stackoverflow.com/questions/8376691/how-to-remove-hashtag-user-link-of-a-tweet-using-regular-expression\n",
    "'''\n",
    "    tweet_bersih= ' '.join(re.sub(\"(@[A-Za-z0-9]+)|([^0-9A-Za-z \\t])|(\\w+:\\/\\/\\S+)\",\" \",tweet.text).split())\n",
    "    #buat objek textblobnya\n",
    "    analysis = TextBlob(tweet_bersih)\n",
    "    #print(type(analysis))\n",
    "    #print(analysis.sentiment.polarity) #menghasilkan nilai numerik\n",
    "    #polarity TextBlob adalah untuk menghitung apakah tweet itu sentimen + - atau netral\n",
    "    \n",
    "    #translate language ke bahasa ingris (karena textblob adalah bahasa inggris)\n",
    "    try :\n",
    "        analysis = analysis.translate(to='en')\n",
    "    except Exception as e:\n",
    "        print(e)\n",
    "    \n",
    "    if analysis.sentiment.polarity > 0.0:\n",
    "        tweet_properties['Sentiment'] = 'Positip'\n",
    "    elif analysis.sentiment.polarity == 0.0:\n",
    "        tweet_properties['Sentiment'] = 'Netral'\n",
    "    else:\n",
    "        tweet_properties['Sentiment'] = 'Negative'\n",
    "     #print(tweet_properties)\n",
    "    \n",
    "    #Bersihkan duplicate\n",
    "    if tweet.retweet_count > 0:\n",
    "        if tweet_properties not in hasilAnalisis:\n",
    "            hasilAnalisis.append(tweet_properties)\n",
    "    else:\n",
    "        hasilAnalisis.append(tweet_properties)"
   ]
  },
  {
   "cell_type": "code",
   "execution_count": 99,
   "metadata": {},
   "outputs": [
    {
     "name": "stdout",
     "output_type": "stream",
     "text": [
      "[{'tanggal_tweet': datetime.datetime(2020, 12, 16, 10, 32, 8), 'Nama_pengguna': 'Trychandra1', 'isi_tweet': 'RT @Andiadi__: Hubungan diplomatik dgn Israel ga akn pernah dibuka oleh Indonesia, Krn dgn itu calling visa adlh yg bisa menjembatani perju…', 'Sentiment': 'Netral'}, {'tanggal_tweet': datetime.datetime(2020, 12, 16, 10, 32, 7), 'Nama_pengguna': 'Paltiwest', 'isi_tweet': 'RT @AnakRiauMinang: @Paltiwest Siapppp abgku...\\nKlu didaerah kita nantinya ada nya seperti itu...abg ku di Projo yg pertama tau👌👌👍👍\\nBisakah…', 'Sentiment': 'Positip'}, {'tanggal_tweet': datetime.datetime(2020, 12, 16, 10, 32, 7), 'Nama_pengguna': 'nshssaja', 'isi_tweet': 'RT @budimandjatmiko: Pak @jokowi, selamat bpk sdh bisa membaca tanda2 zaman saat kini pemerintah2 kapitalis &amp; sosialis bersatu melawan viru…', 'Sentiment': 'Netral'}, {'tanggal_tweet': datetime.datetime(2020, 12, 16, 10, 32, 6), 'Nama_pengguna': 'hendyaw', 'isi_tweet': '@nabilahrbbni OOH MAU BIKIN MEME INDONESIA NGELIAT NEGARA LAIN PADA PAKE PAKSIN GRATIS YA? WKWKWK', 'Sentiment': 'Positip'}, {'tanggal_tweet': datetime.datetime(2020, 12, 16, 10, 32, 3), 'Nama_pengguna': 'otosia', 'isi_tweet': 'Isuzu Panther Hilang dari Situs Resmi, Ini Sebabnya: Isuzu Indonesia akhirnya memberi keterangan terkait absennya I… https://t.co/wIhWWxpF88', 'Sentiment': 'Negative'}, {'tanggal_tweet': datetime.datetime(2020, 12, 16, 10, 32, 3), 'Nama_pengguna': 'ariefavian_', 'isi_tweet': 'Yok, di Indonesia begini juga yok https://t.co/BELXK0V4ng', 'Sentiment': 'Netral'}, {'tanggal_tweet': datetime.datetime(2020, 12, 16, 10, 32, 2), 'Nama_pengguna': 'liputan6dotcom', 'isi_tweet': 'Bank Syariah Indonesia akan Masuk Jajaran 10 Bank Syariah Terbesar di Dunia https://t.co/hgyZU75Umj', 'Sentiment': 'Netral'}, {'tanggal_tweet': datetime.datetime(2020, 12, 16, 10, 32, 2), 'Nama_pengguna': 'grandysofia', 'isi_tweet': 'Pandemi ini memang jadi mimpi buruk bagi sebagian orang. Tapi bisa jadi peluang pengembangan teknologi loh.\\n\\nKang… https://t.co/zJ7HtFSQQY', 'Sentiment': 'Netral'}, {'tanggal_tweet': datetime.datetime(2020, 12, 16, 10, 32, 2), 'Nama_pengguna': 'AgusRW7', 'isi_tweet': 'RT @PartaiSocmed: Gagal logika dari opsi vaksin berbayar dan gratis itu adalah menganggap data kependudukan Indonesia sudah benar. Padahal…', 'Sentiment': 'Positip'}, {'tanggal_tweet': datetime.datetime(2020, 12, 16, 10, 32, 1), 'Nama_pengguna': 'wbxhwdlj', 'isi_tweet': '@OposisiCerdas Indonesia juga punya vaksin sendiri kan ?', 'Sentiment': 'Positip'}, {'tanggal_tweet': datetime.datetime(2020, 12, 16, 10, 32), 'Nama_pengguna': 'frszmm', 'isi_tweet': 'RT @KomunitasBambu: Inilah buku yang menguliti habis-habisan bagaimana peran Angkatan Darat Indonesia yang disokong CIA dan MI6, serta piha…', 'Sentiment': 'Netral'}, {'tanggal_tweet': datetime.datetime(2020, 12, 16, 10, 31, 58), 'Nama_pengguna': 'Dede48158490', 'isi_tweet': '@Abay_1676 @Lady_Zeebo @aagym Perut Rasulullah di ganjal batu ketika menggali parit pd perang khandak adalah karena… https://t.co/nWKX7b7k2D', 'Sentiment': 'Negative'}, {'tanggal_tweet': datetime.datetime(2020, 12, 16, 10, 31, 58), 'Nama_pengguna': 'itsfreeyaa', 'isi_tweet': 'Kalo sampai cpns gak dibuka juga buat guru\\nAku makin pengen pindah aja ni dari indonesia\\nMakin gak ngerti sama pemi… https://t.co/ifiJIiFwqH', 'Sentiment': 'Positip'}, {'tanggal_tweet': datetime.datetime(2020, 12, 16, 10, 31, 56), 'Nama_pengguna': 'alfathan321', 'isi_tweet': 'RT @RD_4WR1212: Presiden Jokowi Saya ingin tegaskan Sekali lagi saya yg akan Menjadi Orang Pertama yang Akan di Vaksin, Untuk Rakyat Indone…', 'Sentiment': 'Positip'}, {'tanggal_tweet': datetime.datetime(2020, 12, 16, 10, 31, 56), 'Nama_pengguna': '1MenujuDamai', 'isi_tweet': 'RT @PutraWadapi: Kalau bicara jujur dan sesuai fakta selama ini maka satu-satunya ormas di Indonesia yang paling peduli dan terdepan memban…', 'Sentiment': 'Positip'}, {'tanggal_tweet': datetime.datetime(2020, 12, 16, 10, 31, 56), 'Nama_pengguna': 'keyhed', 'isi_tweet': '@geloraco ga boong sih... kan memang baru pertama kali disuntik vaksin corona.. cuma urutannya...\\nyang pertama kali… https://t.co/dgRpcs0y29', 'Sentiment': 'Positip'}, {'tanggal_tweet': datetime.datetime(2020, 12, 16, 10, 31, 55), 'Nama_pengguna': 'asmlyn17', 'isi_tweet': 'RT @smstan_tuwir: \"Aku ingin bertemu Presiden Indonesia, Jokowi. Sudah lama tidak bertemu.\" - Leeteuk\\n\\nBaiklah... Bapak leader spesial dan…', 'Sentiment': 'Positip'}, {'tanggal_tweet': datetime.datetime(2020, 12, 16, 10, 31, 54), 'Nama_pengguna': 'aaudeliaa', 'isi_tweet': 'RT @andihiyat: Bahagia banget dan seru kalo ngebahas drama korea yang lagi rame, pas inget tinggalnya di indonesia mendadak sedih lagi inge…', 'Sentiment': 'Positip'}, {'tanggal_tweet': datetime.datetime(2020, 12, 16, 10, 31, 51), 'Nama_pengguna': 'logotrophil13', 'isi_tweet': 'RT @smstan_tuwir: \"Aku ingin bertemu Presiden Indonesia, Jokowi. Sudah lama tidak bertemu.\" - Leeteuk\\n\\nBaiklah... Bapak leader spesial dan…', 'Sentiment': 'Positip'}, {'tanggal_tweet': datetime.datetime(2020, 12, 16, 10, 31, 50), 'Nama_pengguna': 'Indonesia_Siaga', 'isi_tweet': 'Termasuk pemborongan publik ndak ya itu?', 'Sentiment': 'Netral'}, {'tanggal_tweet': datetime.datetime(2020, 12, 16, 10, 31, 50), 'Nama_pengguna': 'ririecha88', 'isi_tweet': 'RT @kompascom: Banyak restoran cepat saji KFC Indonesia terpaksa ditutup. Salah satu alasannya karena adanya PSBB dari pemerintah - #Money…', 'Sentiment': 'Positip'}, {'tanggal_tweet': datetime.datetime(2020, 12, 16, 10, 31, 49), 'Nama_pengguna': 'cahyantee', 'isi_tweet': 'RT @asumsico: Indonesia mencatat 6.725 kasus baru positif COVID-19 dalam sehari (16/12).\\n\\nSekarang ada total 636.154 kasus di seluruh Indon…', 'Sentiment': 'Positip'}, {'tanggal_tweet': datetime.datetime(2020, 12, 16, 10, 31, 48), 'Nama_pengguna': 'dimasrahmat9', 'isi_tweet': 'RT @__MV_llestari__: DARI JAKARTA UNTUK INDONESIA\\n.\\n.\\n.\\n\\nPangdam Jaya, Mayjend Dudung pada awalnya  dianggap keluar dari tupoksinya sebagai…', 'Sentiment': 'Positip'}, {'tanggal_tweet': datetime.datetime(2020, 12, 16, 10, 31, 47), 'Nama_pengguna': 'kiranaHP', 'isi_tweet': 'RT @codex_telkom: MINDSIGHT terakhir tahun ini! Bakal ngebahas Data Science bersama Nabil Badjri (Vice President Data Science Indonesia), d…', 'Sentiment': 'Netral'}, {'tanggal_tweet': datetime.datetime(2020, 12, 16, 10, 31, 45), 'Nama_pengguna': 'minosyahmadi', 'isi_tweet': 'RT @kompascom: Banyak restoran cepat saji KFC Indonesia terpaksa ditutup. Salah satu alasannya karena adanya PSBB dari pemerintah - #Money…', 'Sentiment': 'Positip'}, {'tanggal_tweet': datetime.datetime(2020, 12, 16, 10, 31, 41), 'Nama_pengguna': 'DyandraAngelina', 'isi_tweet': 'Kalau aku pasti habisin waktu liburan ke oyo indonesia', 'Sentiment': 'Netral'}, {'tanggal_tweet': datetime.datetime(2020, 12, 16, 10, 31, 39), 'Nama_pengguna': 'fauzi0zi', 'isi_tweet': 'RT @detikfinance: Sebanyak tiga artis Indonesia masuk dalam daftar 100 Digital Stars yang dirilis oleh Forbes Asia. Mereka adalah Rich Bria…', 'Sentiment': 'Positip'}, {'tanggal_tweet': datetime.datetime(2020, 12, 16, 10, 31, 37), 'Nama_pengguna': 'sughama07rye', 'isi_tweet': 'RT @Namaku_Mei: Mau ndatangin vaksin 1 juta TON sekali pun \\n#coronavirus  ini gak akan pernah berakhir dari Indonesia https://t.co/i7YtTMfe…', 'Sentiment': 'Netral'}, {'tanggal_tweet': datetime.datetime(2020, 12, 16, 10, 31, 37), 'Nama_pengguna': '1MenujuDamai', 'isi_tweet': 'RT @zenrs: \"Setelah menerima banyak masukan dari masyarakat dan kalkulasi ulang, hitung ulang mengenai keuangan negara, saya sampaikan vaks…', 'Sentiment': 'Netral'}, {'tanggal_tweet': datetime.datetime(2020, 12, 16, 10, 31, 36), 'Nama_pengguna': 'Sallira_', 'isi_tweet': 'RT @bankmandiri: Sahabat, aktivasi #tebakanmandiri masih berlanjut. Dapatkan saldo LinkAja Rp100.000. Follow twitter @bankmandiri, jawab de…', 'Sentiment': 'Netral'}, {'tanggal_tweet': datetime.datetime(2020, 12, 16, 10, 31, 35), 'Nama_pengguna': 'gusdureen', 'isi_tweet': 'RT @maiyahan: Mènèk Blimbing: Politisi Amerika Berguru pada Indonesia. Oleh: Ali Hasbullah — https://t.co/dedwlf6XfE #Maiyah', 'Sentiment': 'Netral'}, {'tanggal_tweet': datetime.datetime(2020, 12, 16, 10, 31, 33), 'Nama_pengguna': 'fauzi0zi', 'isi_tweet': 'Apakah admin detikFinace ini yg dulu orang pertama kali yg memotong video @agnezmo terkait Darah &amp; menjadikan fitna… https://t.co/hP08c63s6A', 'Sentiment': 'Positip'}, {'tanggal_tweet': datetime.datetime(2020, 12, 16, 10, 31, 33), 'Nama_pengguna': 'madiuntoday_', 'isi_tweet': 'Peduli Penyiaran, Pemkot Madiun Raih Penghargaan KPID Jatim 2020\\n\\nSURABAYA – Pemerintah Kota Madiun tak pernah lela… https://t.co/P5SvuUuemj', 'Sentiment': 'Positip'}, {'tanggal_tweet': datetime.datetime(2020, 12, 16, 10, 31, 33), 'Nama_pengguna': 'aldila_saga', 'isi_tweet': '@BBCIndonesia Yakin bener2 gratis?\\nGak ada embel2 “gratis bagi yang bla bla bla” kan?\\nSoalnya kebiasaannya indonesi… https://t.co/5mDOxooXsO', 'Sentiment': 'Positip'}, {'tanggal_tweet': datetime.datetime(2020, 12, 16, 10, 31, 31), 'Nama_pengguna': 'bayualdialdi', 'isi_tweet': '#KamiPercayaFPI semoga negaraku Indonesia selalu dalam lindungan Allah dan jauh dari orang2 dzalim', 'Sentiment': 'Netral'}, {'tanggal_tweet': datetime.datetime(2020, 12, 16, 10, 31, 30), 'Nama_pengguna': 'Matt_FelizHall', 'isi_tweet': '@wahyoe_affandy Di El segundo C.A penerimaan vaksin dikabarkan tanggal 02 januari di indonesia kapan', 'Sentiment': 'Netral'}, {'tanggal_tweet': datetime.datetime(2020, 12, 16, 10, 31, 30), 'Nama_pengguna': 'YOURKAIY', 'isi_tweet': 'baju bola sepak negara made in indonesia 😭😔', 'Sentiment': 'Netral'}, {'tanggal_tweet': datetime.datetime(2020, 12, 16, 10, 31, 29), 'Nama_pengguna': 'BowSRT', 'isi_tweet': 'Pak @jokowi di vaksin nya live di seluruh tv indonesia dong. Biar masyarakat percaya👍🏼', 'Sentiment': 'Positip'}, {'tanggal_tweet': datetime.datetime(2020, 12, 16, 10, 31, 27), 'Nama_pengguna': 'yuliasih_lily', 'isi_tweet': 'New place ,New Hope\\nINDOTA EXPRESS EKSPEDISI\\n\\nNew place, new Hope..... Bismillahirrahmanirrahim.....\\n\\nINDOTA EXPRES… https://t.co/bhigku0HVh', 'Sentiment': 'Positip'}, {'tanggal_tweet': datetime.datetime(2020, 12, 16, 10, 31, 26), 'Nama_pengguna': 'bianca25090809', 'isi_tweet': '@RadenMasChungi @YRadianto oh ya?? berarti harusnya indonesia bebas Visa ke Australia  ya... semoga 🙏🙏', 'Sentiment': 'Netral'}, {'tanggal_tweet': datetime.datetime(2020, 12, 16, 10, 31, 25), 'Nama_pengguna': 'idilwiys', 'isi_tweet': 'RT @anwarfra: Ngeliat video terawan ngukur suhu di punggung tangan, membuatku semakin tidak berharap banyak terhadap penyelesaian pandemi d…', 'Sentiment': 'Negative'}, {'tanggal_tweet': datetime.datetime(2020, 12, 16, 10, 31, 22), 'Nama_pengguna': 'akunsudi', 'isi_tweet': 'RT @KawalCOVID19: Tes COVID-19 di Indonesia per 16 Desember 2020.\\n\\nRata-rata harian dalam 7 hari terakhir:\\n- Spesimen: 54.015\\n- Orang yang…', 'Sentiment': 'Negative'}, {'tanggal_tweet': datetime.datetime(2020, 12, 16, 10, 31, 19), 'Nama_pengguna': 'april_hamsa', 'isi_tweet': 'Ada wacana sekolah boleh buka,tp kalau saya pribadi sih menyarankan sekolah pertimbangkan baik2 dulu.Apalagi kasus… https://t.co/TSsrYXaSJV', 'Sentiment': 'Netral'}, {'tanggal_tweet': datetime.datetime(2020, 12, 16, 10, 31, 19), 'Nama_pengguna': 'akunsudi', 'isi_tweet': 'RT @KawalCOVID19: Indonesia mengumumkan 6.725 kasus baru #COVID19 tgl 16 Des 2020.\\n\\nTotal: 636.154\\n\\nKasus aktif: 94.922 (+1.260)\\nSembuh: 52…', 'Sentiment': 'Positip'}, {'tanggal_tweet': datetime.datetime(2020, 12, 16, 10, 31, 19), 'Nama_pengguna': 'coddamonash', 'isi_tweet': 'RT @zarazettirazr: Pihak Muhammadiyah akan membentuk tim untuk mencari opsi penempatan dana di bank umum syariah yang lebih memperhatikan U…', 'Sentiment': 'Positip'}, {'tanggal_tweet': datetime.datetime(2020, 12, 16, 10, 31, 18), 'Nama_pengguna': 'Arojas15260108', 'isi_tweet': 'RT @TRANS7: Vaksin COVID-19 Gratis untuk rakyat Indonesia. #Redaksi https://t.co/Qng0oNta7r', 'Sentiment': 'Positip'}, {'tanggal_tweet': datetime.datetime(2020, 12, 16, 10, 31, 18), 'Nama_pengguna': 'NJunawar', 'isi_tweet': 'RT @amira_suud: @ustadtengkuzul FPI tuh terlalu cinta ma Indonesia\\nFPI nggak mau negri ini hancur krn kemaksiatan\\nFPI jg Nggak mau negri in…', 'Sentiment': 'Netral'}, {'tanggal_tweet': datetime.datetime(2020, 12, 16, 10, 31, 16), 'Nama_pengguna': 'santridanalam', 'isi_tweet': 'Indonesia mengumumkan 6.725 kasus baru #COVID19 tgl 16 Des 2020.\\n\\n#kawalcovid19 #covid19indonesia #updatecovid19 https://t.co/T8TzKS29WJ', 'Sentiment': 'Positip'}, {'tanggal_tweet': datetime.datetime(2020, 12, 16, 10, 31, 14), 'Nama_pengguna': 'DyandraAngelina', 'isi_tweet': 'Musim liburan musimnya oyo indonesia', 'Sentiment': 'Netral'}, {'tanggal_tweet': datetime.datetime(2020, 12, 16, 10, 31, 13), 'Nama_pengguna': 'su7loo', 'isi_tweet': 'RT @Jelantik5: Atlantis #Nusantara Indonesia #Sundaland\\n\\nSebuah #Thread singkat: Pembentukan Laut Jawa\\n\\n1~5 : Last Glacial Maximum , 21.000…', 'Sentiment': 'Netral'}, {'tanggal_tweet': datetime.datetime(2020, 12, 16, 10, 31, 11), 'Nama_pengguna': 'lokilosthisgf', 'isi_tweet': '@jgnbnyktanyaa indonesia', 'Sentiment': 'Netral'}, {'tanggal_tweet': datetime.datetime(2020, 12, 16, 10, 31, 10), 'Nama_pengguna': 'FnandoSidabutar', 'isi_tweet': 'Presiden @jokowi GRATISKAN SELURUH VAKSIN!!!\\nBUMN BATAL DAGANG VAKSIN KE RAKYAT!!! \\nhttps://t.co/ukwRs4jkD6… https://t.co/HdqBBhyW2o', 'Sentiment': 'Positip'}, {'tanggal_tweet': datetime.datetime(2020, 12, 16, 10, 31, 9), 'Nama_pengguna': 'Sallira_', 'isi_tweet': 'RT @bankmandiri: Festival Diskon Nasional akan dimulai besok! Yuk, siap dukung produk lokal bukti Bangga Buatan Indonesia. Hanya di https:/…', 'Sentiment': 'Positip'}, {'tanggal_tweet': datetime.datetime(2020, 12, 16, 10, 31, 9), 'Nama_pengguna': 'wsjambang', 'isi_tweet': 'RT @Hilmi28: Indonesia Darurat Akhlaq...jadi kalau ada yg menyerukan Revolusi Akhlaq apakah itu salah ?! https://t.co/RBUvINq82r', 'Sentiment': 'Negative'}, {'tanggal_tweet': datetime.datetime(2020, 12, 16, 10, 31, 6), 'Nama_pengguna': 'najaerninct', 'isi_tweet': 'RT @smstan_tuwir: \"Aku ingin bertemu Presiden Indonesia, Jokowi. Sudah lama tidak bertemu.\" - Leeteuk\\n\\nBaiklah... Bapak leader spesial dan…', 'Sentiment': 'Positip'}, {'tanggal_tweet': datetime.datetime(2020, 12, 16, 10, 31, 5), 'Nama_pengguna': 'NazarYasni', 'isi_tweet': 'RT @PutraWadapi: Kalau bicara jujur dan sesuai fakta selama ini maka satu-satunya ormas di Indonesia yang paling peduli dan terdepan memban…', 'Sentiment': 'Positip'}, {'tanggal_tweet': datetime.datetime(2020, 12, 16, 10, 31, 3), 'Nama_pengguna': 'Ath1515', 'isi_tweet': 'RT @mohmahfudmd: Memahami keadilan itu sulit. Saat Mas Fahri Hamzah menang 30 M s-d di MA dlm gugatan pemecatan kpd PKS dia bilang, \"ada ke…', 'Sentiment': 'Negative'}, {'tanggal_tweet': datetime.datetime(2020, 12, 16, 10, 31, 3), 'Nama_pengguna': 'idextratime', 'isi_tweet': 'Zidane: \"Lebih dari 500 pertandingan, semua goal, rekornya. Apa yang telah dia lakukan membuktikan semuanya. Bagi s… https://t.co/peka6w15hu', 'Sentiment': 'Positip'}, {'tanggal_tweet': datetime.datetime(2020, 12, 16, 10, 31, 2), 'Nama_pengguna': 'dazlingstaars', 'isi_tweet': 'Pendidikan Bahasa dan Sastra Indonesia. https://t.co/wJic1b5PCw', 'Sentiment': 'Netral'}, {'tanggal_tweet': datetime.datetime(2020, 12, 16, 10, 30, 59), 'Nama_pengguna': 'FaktaCadas', 'isi_tweet': 'Sselamat Malam Indonesia  #faktacadas', 'Sentiment': 'Negative'}, {'tanggal_tweet': datetime.datetime(2020, 12, 16, 10, 30, 58), 'Nama_pengguna': 'mustcho_55555', 'isi_tweet': 'RT @hidcom: MUI Tolak Normalisasi dengan ‘Israel’, Tegaskan Indonesia Selamanya Menentang Penjajahan https://t.co/RCZX6l7wwy', 'Sentiment': 'Netral'}, {'tanggal_tweet': datetime.datetime(2020, 12, 16, 10, 30, 57), 'Nama_pengguna': 'DewiLangitAyu', 'isi_tweet': '@hopegiacinta Kami rakyat Indonesia siap mendukung kinerja Polri', 'Sentiment': 'Positip'}, {'tanggal_tweet': datetime.datetime(2020, 12, 16, 10, 30, 56), 'Nama_pengguna': 'DyandraAngelina', 'isi_tweet': 'Yang naik daun di indonesia\\nKpop\\nIkatan Cinta\\nIndonesia idol\\nStaycation oyo indonesia', 'Sentiment': 'Netral'}, {'tanggal_tweet': datetime.datetime(2020, 12, 16, 10, 30, 55), 'Nama_pengguna': 'dittameliaa', 'isi_tweet': 'RT @codex_telkom: MINDSIGHT terakhir tahun ini! Bakal ngebahas Data Science bersama Nabil Badjri (Vice President Data Science Indonesia), d…', 'Sentiment': 'Netral'}, {'tanggal_tweet': datetime.datetime(2020, 12, 16, 10, 30, 54), 'Nama_pengguna': 'idntimes', 'isi_tweet': 'Akumulasi golput di Pilkada Depok mencapai  481.016 suara\\n\\n#MillennialsMemilih https://t.co/KjMnxw2I48', 'Sentiment': 'Netral'}, {'tanggal_tweet': datetime.datetime(2020, 12, 16, 10, 30, 54), 'Nama_pengguna': 'akunsudi', 'isi_tweet': 'RT @CNNIndonesia: #DataTerbaruCorona\\nKasus positif #covid19 di Indonesia mencapai 636.154 orang dengan penambahan kasus harian sebanyak 6.7…', 'Sentiment': 'Positip'}, {'tanggal_tweet': datetime.datetime(2020, 12, 16, 10, 30, 53), 'Nama_pengguna': 'Fajar_Bumaye', 'isi_tweet': 'daftar #nexmedia hub: 08568931707 klik jg https://t.co/tqrzNsLxVi pesan langsung antar #jokowi #indonesia #jakarta', 'Sentiment': 'Positip'}, {'tanggal_tweet': datetime.datetime(2020, 12, 16, 10, 30, 53), 'Nama_pengguna': 'Zeinhamidmailc1', 'isi_tweet': 'Presiden RI Jokowidodo memberitahukan Vaksin covit 19 Geratis bagi seluruh rakyat indonesia\\n#PresidenJokowi… https://t.co/OEj9H1tp7M', 'Sentiment': 'Netral'}, {'tanggal_tweet': datetime.datetime(2020, 12, 16, 10, 30, 51), 'Nama_pengguna': 'ArifINDOnesia2', 'isi_tweet': 'Selamat Malam #INDONESIA :-)', 'Sentiment': 'Positip'}, {'tanggal_tweet': datetime.datetime(2020, 12, 16, 10, 30, 51), 'Nama_pengguna': 'AdinaArjun', 'isi_tweet': 'RT @VIVAcoid: Utang Luar Negeri Indonesia Naik Lagi, Capai Rp5.828,9 Triliun https://t.co/z10rhaXnZz', 'Sentiment': 'Negative'}, {'tanggal_tweet': datetime.datetime(2020, 12, 16, 10, 30, 48), 'Nama_pengguna': 'KhalidaMisbah', 'isi_tweet': 'FDN 2020 merupakan event bagian dari rangkaian kampanye #BanggaBuatanIndonesia yang diselenggarakan pemerintah untu… https://t.co/wsed6osIFA', 'Sentiment': 'Netral'}, {'tanggal_tweet': datetime.datetime(2020, 12, 16, 10, 30, 46), 'Nama_pengguna': 'hadhmeant', 'isi_tweet': '@CCICPolri Bhinneka Tunggal Ika semboyan Indonesia.\\nYang membuat indonesia menjadi kuat berdasarkan satu kesatuan d… https://t.co/5vWa6wUqJ4', 'Sentiment': 'Positip'}, {'tanggal_tweet': datetime.datetime(2020, 12, 16, 10, 30, 46), 'Nama_pengguna': 'musariez', 'isi_tweet': 'RT @Hilmi28: Indonesia Darurat Akhlaq...jadi kalau ada yg menyerukan Revolusi Akhlaq apakah itu salah ?! https://t.co/RBUvINq82r', 'Sentiment': 'Negative'}, {'tanggal_tweet': datetime.datetime(2020, 12, 16, 10, 30, 46), 'Nama_pengguna': 'dreamxxn', 'isi_tweet': 'Coba aja indonesia kaya korea yang ga ngebolehin anak dibawah umur beli rokok,gila brou tentram banget idup gua gabakal disuruh suruh', 'Sentiment': 'Negative'}, {'tanggal_tweet': datetime.datetime(2020, 12, 16, 10, 30, 42), 'Nama_pengguna': 'dannydhe', 'isi_tweet': 'RT @PutraWadapi: Kalau bicara jujur dan sesuai fakta selama ini maka satu-satunya ormas di Indonesia yang paling peduli dan terdepan memban…', 'Sentiment': 'Positip'}, {'tanggal_tweet': datetime.datetime(2020, 12, 16, 10, 30, 41), 'Nama_pengguna': 'Sallira_', 'isi_tweet': 'RT @TelkomIndonesia: Dengan tagline “Beli Satu, Tumbuh Seribu”, FDN mengajak seluruh bangsa Indonesia untuk merayakan kebanggaan terhadap p…', 'Sentiment': 'Netral'}, {'tanggal_tweet': datetime.datetime(2020, 12, 16, 10, 30, 40), 'Nama_pengguna': 'anfield_indo', 'isi_tweet': 'Pecahkan rekor gol tandang &gt;&gt; https://t.co/ggC9H7GMlN &lt;&lt;', 'Sentiment': 'Netral'}, {'tanggal_tweet': datetime.datetime(2020, 12, 16, 10, 30, 40), 'Nama_pengguna': 'imelpardosi', 'isi_tweet': 'Menuju Indonesia yang lebih sehat, semoga vaksin aman dan anggaran biaya negara juga selamat. https://t.co/twI0I5GaNK', 'Sentiment': 'Positip'}, {'tanggal_tweet': datetime.datetime(2020, 12, 16, 10, 30, 40), 'Nama_pengguna': 'TasyaSiagian1', 'isi_tweet': 'RT @forhacin: Halo, dalam rangka ulang tahun Kim Seokjin! Kami mengandakan event online &amp; offline. Online bisa diikuti oleh ARMY di Indones…', 'Sentiment': 'Netral'}, {'tanggal_tweet': datetime.datetime(2020, 12, 16, 10, 30, 35), 'Nama_pengguna': 'TasyaSiagian1', 'isi_tweet': 'RT @forhacin: Spoiler beberapa isi Moon Box (nanti masih ada tambahan isi). Box ini nanti disebar pada beberapa daerah di Indonesia, sepert…', 'Sentiment': 'Netral'}, {'tanggal_tweet': datetime.datetime(2020, 12, 16, 10, 30, 34), 'Nama_pengguna': 'Sallira_', 'isi_tweet': 'RT @TelkomIndonesia: Bangga Buatan Indonesia, bukan hanya cerita tentang produk lokal yang dibanggakan, tetapi perjuangan pelaku industri d…', 'Sentiment': 'Positip'}, {'tanggal_tweet': datetime.datetime(2020, 12, 16, 10, 30, 32), 'Nama_pengguna': 'idntimes', 'isi_tweet': 'Pemulihan korban terorisme adalah tanggung jawab negara https://t.co/cZUQridJf9', 'Sentiment': 'Netral'}, {'tanggal_tweet': datetime.datetime(2020, 12, 16, 10, 30, 30), 'Nama_pengguna': 'whysato2', 'isi_tweet': 'RT @hidcom: MUI Tolak Normalisasi dengan ‘Israel’, Tegaskan Indonesia Selamanya Menentang Penjajahan https://t.co/RCZX6l7wwy', 'Sentiment': 'Netral'}, {'tanggal_tweet': datetime.datetime(2020, 12, 16, 10, 30, 29), 'Nama_pengguna': 'brayhanzr', 'isi_tweet': 'RT @jawafess: Semoga uji coba vaksin di Indonesia tidak mengalami hal serupa Lur 🙏🏻 https://t.co/JxJGGUozTF', 'Sentiment': 'Netral'}, {'tanggal_tweet': datetime.datetime(2020, 12, 16, 10, 30, 26), 'Nama_pengguna': 'rinnnjjj', 'isi_tweet': 'RT @merapi_uncover: Wonderful Indonesia \\n🚩Borobudur Temple, Magelang, Central Java\\n\\n📸: Pakindro https://t.co/qTaT6rFGe8', 'Sentiment': 'Positip'}, {'tanggal_tweet': datetime.datetime(2020, 12, 16, 10, 30, 22), 'Nama_pengguna': 'Singgihakbarp', 'isi_tweet': 'RT @blontankpoer: tahun depan, ILC berhenti tayang, semoga Indonesia jadi lebih adem. hanya Karni Ilyas yang membesarkan orang-orang menyeb…', 'Sentiment': 'Netral'}, {'tanggal_tweet': datetime.datetime(2020, 12, 16, 10, 30, 21), 'Nama_pengguna': 'kara2291', 'isi_tweet': 'RT @UmarChelsea75__: Menkes indonesia dari awal covid19 sampai suntik vaksin tetap saja diam. Sebenarnya kita ini punya menkes gak sih?', 'Sentiment': 'Netral'}, {'tanggal_tweet': datetime.datetime(2020, 12, 16, 10, 30, 20), 'Nama_pengguna': 'arisutrisna_ari', 'isi_tweet': '@jansen_jsp @KemenkesRI Negara singapura donk keren. Bagaimana dengan indonesia? https://t.co/huISVz6aoo', 'Sentiment': 'Positip'}, {'tanggal_tweet': datetime.datetime(2020, 12, 16, 10, 30, 20), 'Nama_pengguna': 'agus8876', 'isi_tweet': 'RT @imau_rokan: TKA2 CINA dilempari  pekerja Indonesia yg berdemo menuntut penyetaraan gaji  di PT.VDNI https://t.co/eblssbDqtw', 'Sentiment': 'Netral'}, {'tanggal_tweet': datetime.datetime(2020, 12, 16, 10, 30, 17), 'Nama_pengguna': 'DontcryindoKid', 'isi_tweet': 'RT @zarazettirazr: Pihak Muhammadiyah akan membentuk tim untuk mencari opsi penempatan dana di bank umum syariah yang lebih memperhatikan U…', 'Sentiment': 'Positip'}, {'tanggal_tweet': datetime.datetime(2020, 12, 16, 10, 30, 16), 'Nama_pengguna': 'pputrakkelana', 'isi_tweet': 'RT @KawalCOVID19: Indonesia mengumumkan 6.725 kasus baru #COVID19 tgl 16 Des 2020.\\n\\nTotal: 636.154\\n\\nKasus aktif: 94.922 (+1.260)\\nSembuh: 52…', 'Sentiment': 'Positip'}, {'tanggal_tweet': datetime.datetime(2020, 12, 16, 10, 30, 16), 'Nama_pengguna': 'zielasufina', 'isi_tweet': 'RT @HosRebaj: Ada sebahagian orang Malaysia bangga betul syarikat-syarikat besar seperti Amazon mula melabur di Indonesia.\\n\\nKalau kau fikir…', 'Sentiment': 'Positip'}, {'tanggal_tweet': datetime.datetime(2020, 12, 16, 10, 30, 15), 'Nama_pengguna': 'AntonKu62463911', 'isi_tweet': '@SintaElvhee2_ MANTAP \\nSUDAH SAAT NYA \\n2 ABANG BERADIK \\nBEKERJASAMA.\\nSBG \\nGARDA TERDEPAN \\nUTK MENJAGA \\n\"KESATUAN &amp;… https://t.co/WmOTD9GoYp', 'Sentiment': 'Netral'}, {'tanggal_tweet': datetime.datetime(2020, 12, 16, 10, 30, 14), 'Nama_pengguna': 'imamsyyuhada', 'isi_tweet': '@TirtoID Warga indonesia tinggal setengah persen, sisanya di penjara', 'Sentiment': 'Negative'}, {'tanggal_tweet': datetime.datetime(2020, 12, 16, 10, 30, 12), 'Nama_pengguna': 'KeeNand__', 'isi_tweet': '@EPerlok @apocalypsoblitz @detikhot Ni baca media Jerman, gk tak kasih bahasa inggris tapi bahasa Indonesia biar pa… https://t.co/kgERYqs4vT', 'Sentiment': 'Netral'}, {'tanggal_tweet': datetime.datetime(2020, 12, 16, 10, 30, 12), 'Nama_pengguna': 'BTrisiyo', 'isi_tweet': 'RT @ErwinSimbolon18: Untung saat Pilpres gak salah milih presiden, pilihanku tepat. Beruntung Indonesia punya presiden seperti pak @jokowi…', 'Sentiment': 'Positip'}, {'tanggal_tweet': datetime.datetime(2020, 12, 16, 10, 30, 11), 'Nama_pengguna': 'AisyaSa21998457', 'isi_tweet': 'RT @Hilmi28: Indonesia Darurat Akhlaq...jadi kalau ada yg menyerukan Revolusi Akhlaq apakah itu salah ?! https://t.co/RBUvINq82r', 'Sentiment': 'Negative'}, {'tanggal_tweet': datetime.datetime(2020, 12, 16, 10, 30, 10), 'Nama_pengguna': 'rizkyseptiana__', 'isi_tweet': 'RT @VaksinUntukKita: Kabar gembira untuk masyarakat Indonesia! Melalui siaran pers terkait vaksin Covid-19, Presiden Joko Widodo menyampaik…', 'Sentiment': 'Positip'}, {'tanggal_tweet': datetime.datetime(2020, 12, 16, 10, 30, 4), 'Nama_pengguna': 'BBcoid', 'isi_tweet': 'Amatil Indonesia Selenggarakan Pelatihan Pemberdayaan Masyarakat di Cikarang Barat https://t.co/3IEmMmt81V https://t.co/prUwxgtEly', 'Sentiment': 'Netral'}, {'tanggal_tweet': datetime.datetime(2020, 12, 16, 10, 30, 4), 'Nama_pengguna': 'SuperJuniorFast', 'isi_tweet': 'Shindong pernah nyapa ELF di Indonesia di account twitternya dan dia nulis ‘ELF Indonesia’ dan ‘Cinta Shindong’', 'Sentiment': 'Netral'}]\n"
     ]
    }
   ],
   "source": [
    "print(hasilAnalisis)"
   ]
  },
  {
   "cell_type": "code",
   "execution_count": null,
   "metadata": {},
   "outputs": [],
   "source": []
  },
  {
   "cell_type": "code",
   "execution_count": 100,
   "metadata": {},
   "outputs": [],
   "source": [
    "#Hitung Jumlah Sentiment Positif, Negative dan Netral\n",
    "tweet_Positif = [t for t in hasilAnalisis if t['Sentiment']=='Positip']\n",
    "tweet_Netral = [t for t in hasilAnalisis if t['Sentiment']=='Netral']\n",
    "tweet_Negative = [t for t in hasilAnalisis if t['Sentiment']=='Negative']"
   ]
  },
  {
   "cell_type": "code",
   "execution_count": 101,
   "metadata": {},
   "outputs": [
    {
     "name": "stdout",
     "output_type": "stream",
     "text": [
      "[{'tanggal_tweet': datetime.datetime(2020, 12, 16, 10, 32, 7), 'Nama_pengguna': 'Paltiwest', 'isi_tweet': 'RT @AnakRiauMinang: @Paltiwest Siapppp abgku...\\nKlu didaerah kita nantinya ada nya seperti itu...abg ku di Projo yg pertama tau👌👌👍👍\\nBisakah…', 'Sentiment': 'Positip'}, {'tanggal_tweet': datetime.datetime(2020, 12, 16, 10, 32, 6), 'Nama_pengguna': 'hendyaw', 'isi_tweet': '@nabilahrbbni OOH MAU BIKIN MEME INDONESIA NGELIAT NEGARA LAIN PADA PAKE PAKSIN GRATIS YA? WKWKWK', 'Sentiment': 'Positip'}, {'tanggal_tweet': datetime.datetime(2020, 12, 16, 10, 32, 2), 'Nama_pengguna': 'AgusRW7', 'isi_tweet': 'RT @PartaiSocmed: Gagal logika dari opsi vaksin berbayar dan gratis itu adalah menganggap data kependudukan Indonesia sudah benar. Padahal…', 'Sentiment': 'Positip'}, {'tanggal_tweet': datetime.datetime(2020, 12, 16, 10, 32, 1), 'Nama_pengguna': 'wbxhwdlj', 'isi_tweet': '@OposisiCerdas Indonesia juga punya vaksin sendiri kan ?', 'Sentiment': 'Positip'}, {'tanggal_tweet': datetime.datetime(2020, 12, 16, 10, 31, 58), 'Nama_pengguna': 'itsfreeyaa', 'isi_tweet': 'Kalo sampai cpns gak dibuka juga buat guru\\nAku makin pengen pindah aja ni dari indonesia\\nMakin gak ngerti sama pemi… https://t.co/ifiJIiFwqH', 'Sentiment': 'Positip'}, {'tanggal_tweet': datetime.datetime(2020, 12, 16, 10, 31, 56), 'Nama_pengguna': 'alfathan321', 'isi_tweet': 'RT @RD_4WR1212: Presiden Jokowi Saya ingin tegaskan Sekali lagi saya yg akan Menjadi Orang Pertama yang Akan di Vaksin, Untuk Rakyat Indone…', 'Sentiment': 'Positip'}, {'tanggal_tweet': datetime.datetime(2020, 12, 16, 10, 31, 56), 'Nama_pengguna': '1MenujuDamai', 'isi_tweet': 'RT @PutraWadapi: Kalau bicara jujur dan sesuai fakta selama ini maka satu-satunya ormas di Indonesia yang paling peduli dan terdepan memban…', 'Sentiment': 'Positip'}, {'tanggal_tweet': datetime.datetime(2020, 12, 16, 10, 31, 56), 'Nama_pengguna': 'keyhed', 'isi_tweet': '@geloraco ga boong sih... kan memang baru pertama kali disuntik vaksin corona.. cuma urutannya...\\nyang pertama kali… https://t.co/dgRpcs0y29', 'Sentiment': 'Positip'}, {'tanggal_tweet': datetime.datetime(2020, 12, 16, 10, 31, 55), 'Nama_pengguna': 'asmlyn17', 'isi_tweet': 'RT @smstan_tuwir: \"Aku ingin bertemu Presiden Indonesia, Jokowi. Sudah lama tidak bertemu.\" - Leeteuk\\n\\nBaiklah... Bapak leader spesial dan…', 'Sentiment': 'Positip'}, {'tanggal_tweet': datetime.datetime(2020, 12, 16, 10, 31, 54), 'Nama_pengguna': 'aaudeliaa', 'isi_tweet': 'RT @andihiyat: Bahagia banget dan seru kalo ngebahas drama korea yang lagi rame, pas inget tinggalnya di indonesia mendadak sedih lagi inge…', 'Sentiment': 'Positip'}, {'tanggal_tweet': datetime.datetime(2020, 12, 16, 10, 31, 51), 'Nama_pengguna': 'logotrophil13', 'isi_tweet': 'RT @smstan_tuwir: \"Aku ingin bertemu Presiden Indonesia, Jokowi. Sudah lama tidak bertemu.\" - Leeteuk\\n\\nBaiklah... Bapak leader spesial dan…', 'Sentiment': 'Positip'}, {'tanggal_tweet': datetime.datetime(2020, 12, 16, 10, 31, 50), 'Nama_pengguna': 'ririecha88', 'isi_tweet': 'RT @kompascom: Banyak restoran cepat saji KFC Indonesia terpaksa ditutup. Salah satu alasannya karena adanya PSBB dari pemerintah - #Money…', 'Sentiment': 'Positip'}, {'tanggal_tweet': datetime.datetime(2020, 12, 16, 10, 31, 49), 'Nama_pengguna': 'cahyantee', 'isi_tweet': 'RT @asumsico: Indonesia mencatat 6.725 kasus baru positif COVID-19 dalam sehari (16/12).\\n\\nSekarang ada total 636.154 kasus di seluruh Indon…', 'Sentiment': 'Positip'}, {'tanggal_tweet': datetime.datetime(2020, 12, 16, 10, 31, 48), 'Nama_pengguna': 'dimasrahmat9', 'isi_tweet': 'RT @__MV_llestari__: DARI JAKARTA UNTUK INDONESIA\\n.\\n.\\n.\\n\\nPangdam Jaya, Mayjend Dudung pada awalnya  dianggap keluar dari tupoksinya sebagai…', 'Sentiment': 'Positip'}, {'tanggal_tweet': datetime.datetime(2020, 12, 16, 10, 31, 45), 'Nama_pengguna': 'minosyahmadi', 'isi_tweet': 'RT @kompascom: Banyak restoran cepat saji KFC Indonesia terpaksa ditutup. Salah satu alasannya karena adanya PSBB dari pemerintah - #Money…', 'Sentiment': 'Positip'}, {'tanggal_tweet': datetime.datetime(2020, 12, 16, 10, 31, 39), 'Nama_pengguna': 'fauzi0zi', 'isi_tweet': 'RT @detikfinance: Sebanyak tiga artis Indonesia masuk dalam daftar 100 Digital Stars yang dirilis oleh Forbes Asia. Mereka adalah Rich Bria…', 'Sentiment': 'Positip'}, {'tanggal_tweet': datetime.datetime(2020, 12, 16, 10, 31, 33), 'Nama_pengguna': 'fauzi0zi', 'isi_tweet': 'Apakah admin detikFinace ini yg dulu orang pertama kali yg memotong video @agnezmo terkait Darah &amp; menjadikan fitna… https://t.co/hP08c63s6A', 'Sentiment': 'Positip'}, {'tanggal_tweet': datetime.datetime(2020, 12, 16, 10, 31, 33), 'Nama_pengguna': 'madiuntoday_', 'isi_tweet': 'Peduli Penyiaran, Pemkot Madiun Raih Penghargaan KPID Jatim 2020\\n\\nSURABAYA – Pemerintah Kota Madiun tak pernah lela… https://t.co/P5SvuUuemj', 'Sentiment': 'Positip'}, {'tanggal_tweet': datetime.datetime(2020, 12, 16, 10, 31, 33), 'Nama_pengguna': 'aldila_saga', 'isi_tweet': '@BBCIndonesia Yakin bener2 gratis?\\nGak ada embel2 “gratis bagi yang bla bla bla” kan?\\nSoalnya kebiasaannya indonesi… https://t.co/5mDOxooXsO', 'Sentiment': 'Positip'}, {'tanggal_tweet': datetime.datetime(2020, 12, 16, 10, 31, 29), 'Nama_pengguna': 'BowSRT', 'isi_tweet': 'Pak @jokowi di vaksin nya live di seluruh tv indonesia dong. Biar masyarakat percaya👍🏼', 'Sentiment': 'Positip'}, {'tanggal_tweet': datetime.datetime(2020, 12, 16, 10, 31, 27), 'Nama_pengguna': 'yuliasih_lily', 'isi_tweet': 'New place ,New Hope\\nINDOTA EXPRESS EKSPEDISI\\n\\nNew place, new Hope..... Bismillahirrahmanirrahim.....\\n\\nINDOTA EXPRES… https://t.co/bhigku0HVh', 'Sentiment': 'Positip'}, {'tanggal_tweet': datetime.datetime(2020, 12, 16, 10, 31, 19), 'Nama_pengguna': 'akunsudi', 'isi_tweet': 'RT @KawalCOVID19: Indonesia mengumumkan 6.725 kasus baru #COVID19 tgl 16 Des 2020.\\n\\nTotal: 636.154\\n\\nKasus aktif: 94.922 (+1.260)\\nSembuh: 52…', 'Sentiment': 'Positip'}, {'tanggal_tweet': datetime.datetime(2020, 12, 16, 10, 31, 19), 'Nama_pengguna': 'coddamonash', 'isi_tweet': 'RT @zarazettirazr: Pihak Muhammadiyah akan membentuk tim untuk mencari opsi penempatan dana di bank umum syariah yang lebih memperhatikan U…', 'Sentiment': 'Positip'}, {'tanggal_tweet': datetime.datetime(2020, 12, 16, 10, 31, 18), 'Nama_pengguna': 'Arojas15260108', 'isi_tweet': 'RT @TRANS7: Vaksin COVID-19 Gratis untuk rakyat Indonesia. #Redaksi https://t.co/Qng0oNta7r', 'Sentiment': 'Positip'}, {'tanggal_tweet': datetime.datetime(2020, 12, 16, 10, 31, 16), 'Nama_pengguna': 'santridanalam', 'isi_tweet': 'Indonesia mengumumkan 6.725 kasus baru #COVID19 tgl 16 Des 2020.\\n\\n#kawalcovid19 #covid19indonesia #updatecovid19 https://t.co/T8TzKS29WJ', 'Sentiment': 'Positip'}, {'tanggal_tweet': datetime.datetime(2020, 12, 16, 10, 31, 10), 'Nama_pengguna': 'FnandoSidabutar', 'isi_tweet': 'Presiden @jokowi GRATISKAN SELURUH VAKSIN!!!\\nBUMN BATAL DAGANG VAKSIN KE RAKYAT!!! \\nhttps://t.co/ukwRs4jkD6… https://t.co/HdqBBhyW2o', 'Sentiment': 'Positip'}, {'tanggal_tweet': datetime.datetime(2020, 12, 16, 10, 31, 9), 'Nama_pengguna': 'Sallira_', 'isi_tweet': 'RT @bankmandiri: Festival Diskon Nasional akan dimulai besok! Yuk, siap dukung produk lokal bukti Bangga Buatan Indonesia. Hanya di https:/…', 'Sentiment': 'Positip'}, {'tanggal_tweet': datetime.datetime(2020, 12, 16, 10, 31, 6), 'Nama_pengguna': 'najaerninct', 'isi_tweet': 'RT @smstan_tuwir: \"Aku ingin bertemu Presiden Indonesia, Jokowi. Sudah lama tidak bertemu.\" - Leeteuk\\n\\nBaiklah... Bapak leader spesial dan…', 'Sentiment': 'Positip'}, {'tanggal_tweet': datetime.datetime(2020, 12, 16, 10, 31, 5), 'Nama_pengguna': 'NazarYasni', 'isi_tweet': 'RT @PutraWadapi: Kalau bicara jujur dan sesuai fakta selama ini maka satu-satunya ormas di Indonesia yang paling peduli dan terdepan memban…', 'Sentiment': 'Positip'}, {'tanggal_tweet': datetime.datetime(2020, 12, 16, 10, 31, 3), 'Nama_pengguna': 'idextratime', 'isi_tweet': 'Zidane: \"Lebih dari 500 pertandingan, semua goal, rekornya. Apa yang telah dia lakukan membuktikan semuanya. Bagi s… https://t.co/peka6w15hu', 'Sentiment': 'Positip'}, {'tanggal_tweet': datetime.datetime(2020, 12, 16, 10, 30, 57), 'Nama_pengguna': 'DewiLangitAyu', 'isi_tweet': '@hopegiacinta Kami rakyat Indonesia siap mendukung kinerja Polri', 'Sentiment': 'Positip'}, {'tanggal_tweet': datetime.datetime(2020, 12, 16, 10, 30, 54), 'Nama_pengguna': 'akunsudi', 'isi_tweet': 'RT @CNNIndonesia: #DataTerbaruCorona\\nKasus positif #covid19 di Indonesia mencapai 636.154 orang dengan penambahan kasus harian sebanyak 6.7…', 'Sentiment': 'Positip'}, {'tanggal_tweet': datetime.datetime(2020, 12, 16, 10, 30, 53), 'Nama_pengguna': 'Fajar_Bumaye', 'isi_tweet': 'daftar #nexmedia hub: 08568931707 klik jg https://t.co/tqrzNsLxVi pesan langsung antar #jokowi #indonesia #jakarta', 'Sentiment': 'Positip'}, {'tanggal_tweet': datetime.datetime(2020, 12, 16, 10, 30, 51), 'Nama_pengguna': 'ArifINDOnesia2', 'isi_tweet': 'Selamat Malam #INDONESIA :-)', 'Sentiment': 'Positip'}, {'tanggal_tweet': datetime.datetime(2020, 12, 16, 10, 30, 46), 'Nama_pengguna': 'hadhmeant', 'isi_tweet': '@CCICPolri Bhinneka Tunggal Ika semboyan Indonesia.\\nYang membuat indonesia menjadi kuat berdasarkan satu kesatuan d… https://t.co/5vWa6wUqJ4', 'Sentiment': 'Positip'}, {'tanggal_tweet': datetime.datetime(2020, 12, 16, 10, 30, 42), 'Nama_pengguna': 'dannydhe', 'isi_tweet': 'RT @PutraWadapi: Kalau bicara jujur dan sesuai fakta selama ini maka satu-satunya ormas di Indonesia yang paling peduli dan terdepan memban…', 'Sentiment': 'Positip'}, {'tanggal_tweet': datetime.datetime(2020, 12, 16, 10, 30, 40), 'Nama_pengguna': 'imelpardosi', 'isi_tweet': 'Menuju Indonesia yang lebih sehat, semoga vaksin aman dan anggaran biaya negara juga selamat. https://t.co/twI0I5GaNK', 'Sentiment': 'Positip'}, {'tanggal_tweet': datetime.datetime(2020, 12, 16, 10, 30, 34), 'Nama_pengguna': 'Sallira_', 'isi_tweet': 'RT @TelkomIndonesia: Bangga Buatan Indonesia, bukan hanya cerita tentang produk lokal yang dibanggakan, tetapi perjuangan pelaku industri d…', 'Sentiment': 'Positip'}, {'tanggal_tweet': datetime.datetime(2020, 12, 16, 10, 30, 26), 'Nama_pengguna': 'rinnnjjj', 'isi_tweet': 'RT @merapi_uncover: Wonderful Indonesia \\n🚩Borobudur Temple, Magelang, Central Java\\n\\n📸: Pakindro https://t.co/qTaT6rFGe8', 'Sentiment': 'Positip'}, {'tanggal_tweet': datetime.datetime(2020, 12, 16, 10, 30, 20), 'Nama_pengguna': 'arisutrisna_ari', 'isi_tweet': '@jansen_jsp @KemenkesRI Negara singapura donk keren. Bagaimana dengan indonesia? https://t.co/huISVz6aoo', 'Sentiment': 'Positip'}, {'tanggal_tweet': datetime.datetime(2020, 12, 16, 10, 30, 17), 'Nama_pengguna': 'DontcryindoKid', 'isi_tweet': 'RT @zarazettirazr: Pihak Muhammadiyah akan membentuk tim untuk mencari opsi penempatan dana di bank umum syariah yang lebih memperhatikan U…', 'Sentiment': 'Positip'}, {'tanggal_tweet': datetime.datetime(2020, 12, 16, 10, 30, 16), 'Nama_pengguna': 'pputrakkelana', 'isi_tweet': 'RT @KawalCOVID19: Indonesia mengumumkan 6.725 kasus baru #COVID19 tgl 16 Des 2020.\\n\\nTotal: 636.154\\n\\nKasus aktif: 94.922 (+1.260)\\nSembuh: 52…', 'Sentiment': 'Positip'}, {'tanggal_tweet': datetime.datetime(2020, 12, 16, 10, 30, 16), 'Nama_pengguna': 'zielasufina', 'isi_tweet': 'RT @HosRebaj: Ada sebahagian orang Malaysia bangga betul syarikat-syarikat besar seperti Amazon mula melabur di Indonesia.\\n\\nKalau kau fikir…', 'Sentiment': 'Positip'}, {'tanggal_tweet': datetime.datetime(2020, 12, 16, 10, 30, 12), 'Nama_pengguna': 'BTrisiyo', 'isi_tweet': 'RT @ErwinSimbolon18: Untung saat Pilpres gak salah milih presiden, pilihanku tepat. Beruntung Indonesia punya presiden seperti pak @jokowi…', 'Sentiment': 'Positip'}, {'tanggal_tweet': datetime.datetime(2020, 12, 16, 10, 30, 10), 'Nama_pengguna': 'rizkyseptiana__', 'isi_tweet': 'RT @VaksinUntukKita: Kabar gembira untuk masyarakat Indonesia! Melalui siaran pers terkait vaksin Covid-19, Presiden Joko Widodo menyampaik…', 'Sentiment': 'Positip'}]\n"
     ]
    }
   ],
   "source": [
    "print(tweet_Positif)"
   ]
  },
  {
   "cell_type": "code",
   "execution_count": 102,
   "metadata": {},
   "outputs": [
    {
     "name": "stdout",
     "output_type": "stream",
     "text": [
      "[{'tanggal_tweet': datetime.datetime(2020, 12, 16, 10, 32, 8), 'Nama_pengguna': 'Trychandra1', 'isi_tweet': 'RT @Andiadi__: Hubungan diplomatik dgn Israel ga akn pernah dibuka oleh Indonesia, Krn dgn itu calling visa adlh yg bisa menjembatani perju…', 'Sentiment': 'Netral'}, {'tanggal_tweet': datetime.datetime(2020, 12, 16, 10, 32, 7), 'Nama_pengguna': 'nshssaja', 'isi_tweet': 'RT @budimandjatmiko: Pak @jokowi, selamat bpk sdh bisa membaca tanda2 zaman saat kini pemerintah2 kapitalis &amp; sosialis bersatu melawan viru…', 'Sentiment': 'Netral'}, {'tanggal_tweet': datetime.datetime(2020, 12, 16, 10, 32, 3), 'Nama_pengguna': 'ariefavian_', 'isi_tweet': 'Yok, di Indonesia begini juga yok https://t.co/BELXK0V4ng', 'Sentiment': 'Netral'}, {'tanggal_tweet': datetime.datetime(2020, 12, 16, 10, 32, 2), 'Nama_pengguna': 'liputan6dotcom', 'isi_tweet': 'Bank Syariah Indonesia akan Masuk Jajaran 10 Bank Syariah Terbesar di Dunia https://t.co/hgyZU75Umj', 'Sentiment': 'Netral'}, {'tanggal_tweet': datetime.datetime(2020, 12, 16, 10, 32, 2), 'Nama_pengguna': 'grandysofia', 'isi_tweet': 'Pandemi ini memang jadi mimpi buruk bagi sebagian orang. Tapi bisa jadi peluang pengembangan teknologi loh.\\n\\nKang… https://t.co/zJ7HtFSQQY', 'Sentiment': 'Netral'}, {'tanggal_tweet': datetime.datetime(2020, 12, 16, 10, 32), 'Nama_pengguna': 'frszmm', 'isi_tweet': 'RT @KomunitasBambu: Inilah buku yang menguliti habis-habisan bagaimana peran Angkatan Darat Indonesia yang disokong CIA dan MI6, serta piha…', 'Sentiment': 'Netral'}, {'tanggal_tweet': datetime.datetime(2020, 12, 16, 10, 31, 50), 'Nama_pengguna': 'Indonesia_Siaga', 'isi_tweet': 'Termasuk pemborongan publik ndak ya itu?', 'Sentiment': 'Netral'}, {'tanggal_tweet': datetime.datetime(2020, 12, 16, 10, 31, 47), 'Nama_pengguna': 'kiranaHP', 'isi_tweet': 'RT @codex_telkom: MINDSIGHT terakhir tahun ini! Bakal ngebahas Data Science bersama Nabil Badjri (Vice President Data Science Indonesia), d…', 'Sentiment': 'Netral'}, {'tanggal_tweet': datetime.datetime(2020, 12, 16, 10, 31, 41), 'Nama_pengguna': 'DyandraAngelina', 'isi_tweet': 'Kalau aku pasti habisin waktu liburan ke oyo indonesia', 'Sentiment': 'Netral'}, {'tanggal_tweet': datetime.datetime(2020, 12, 16, 10, 31, 37), 'Nama_pengguna': 'sughama07rye', 'isi_tweet': 'RT @Namaku_Mei: Mau ndatangin vaksin 1 juta TON sekali pun \\n#coronavirus  ini gak akan pernah berakhir dari Indonesia https://t.co/i7YtTMfe…', 'Sentiment': 'Netral'}, {'tanggal_tweet': datetime.datetime(2020, 12, 16, 10, 31, 37), 'Nama_pengguna': '1MenujuDamai', 'isi_tweet': 'RT @zenrs: \"Setelah menerima banyak masukan dari masyarakat dan kalkulasi ulang, hitung ulang mengenai keuangan negara, saya sampaikan vaks…', 'Sentiment': 'Netral'}, {'tanggal_tweet': datetime.datetime(2020, 12, 16, 10, 31, 36), 'Nama_pengguna': 'Sallira_', 'isi_tweet': 'RT @bankmandiri: Sahabat, aktivasi #tebakanmandiri masih berlanjut. Dapatkan saldo LinkAja Rp100.000. Follow twitter @bankmandiri, jawab de…', 'Sentiment': 'Netral'}, {'tanggal_tweet': datetime.datetime(2020, 12, 16, 10, 31, 35), 'Nama_pengguna': 'gusdureen', 'isi_tweet': 'RT @maiyahan: Mènèk Blimbing: Politisi Amerika Berguru pada Indonesia. Oleh: Ali Hasbullah — https://t.co/dedwlf6XfE #Maiyah', 'Sentiment': 'Netral'}, {'tanggal_tweet': datetime.datetime(2020, 12, 16, 10, 31, 31), 'Nama_pengguna': 'bayualdialdi', 'isi_tweet': '#KamiPercayaFPI semoga negaraku Indonesia selalu dalam lindungan Allah dan jauh dari orang2 dzalim', 'Sentiment': 'Netral'}, {'tanggal_tweet': datetime.datetime(2020, 12, 16, 10, 31, 30), 'Nama_pengguna': 'Matt_FelizHall', 'isi_tweet': '@wahyoe_affandy Di El segundo C.A penerimaan vaksin dikabarkan tanggal 02 januari di indonesia kapan', 'Sentiment': 'Netral'}, {'tanggal_tweet': datetime.datetime(2020, 12, 16, 10, 31, 30), 'Nama_pengguna': 'YOURKAIY', 'isi_tweet': 'baju bola sepak negara made in indonesia 😭😔', 'Sentiment': 'Netral'}, {'tanggal_tweet': datetime.datetime(2020, 12, 16, 10, 31, 26), 'Nama_pengguna': 'bianca25090809', 'isi_tweet': '@RadenMasChungi @YRadianto oh ya?? berarti harusnya indonesia bebas Visa ke Australia  ya... semoga 🙏🙏', 'Sentiment': 'Netral'}, {'tanggal_tweet': datetime.datetime(2020, 12, 16, 10, 31, 19), 'Nama_pengguna': 'april_hamsa', 'isi_tweet': 'Ada wacana sekolah boleh buka,tp kalau saya pribadi sih menyarankan sekolah pertimbangkan baik2 dulu.Apalagi kasus… https://t.co/TSsrYXaSJV', 'Sentiment': 'Netral'}, {'tanggal_tweet': datetime.datetime(2020, 12, 16, 10, 31, 18), 'Nama_pengguna': 'NJunawar', 'isi_tweet': 'RT @amira_suud: @ustadtengkuzul FPI tuh terlalu cinta ma Indonesia\\nFPI nggak mau negri ini hancur krn kemaksiatan\\nFPI jg Nggak mau negri in…', 'Sentiment': 'Netral'}, {'tanggal_tweet': datetime.datetime(2020, 12, 16, 10, 31, 14), 'Nama_pengguna': 'DyandraAngelina', 'isi_tweet': 'Musim liburan musimnya oyo indonesia', 'Sentiment': 'Netral'}, {'tanggal_tweet': datetime.datetime(2020, 12, 16, 10, 31, 13), 'Nama_pengguna': 'su7loo', 'isi_tweet': 'RT @Jelantik5: Atlantis #Nusantara Indonesia #Sundaland\\n\\nSebuah #Thread singkat: Pembentukan Laut Jawa\\n\\n1~5 : Last Glacial Maximum , 21.000…', 'Sentiment': 'Netral'}, {'tanggal_tweet': datetime.datetime(2020, 12, 16, 10, 31, 11), 'Nama_pengguna': 'lokilosthisgf', 'isi_tweet': '@jgnbnyktanyaa indonesia', 'Sentiment': 'Netral'}, {'tanggal_tweet': datetime.datetime(2020, 12, 16, 10, 31, 2), 'Nama_pengguna': 'dazlingstaars', 'isi_tweet': 'Pendidikan Bahasa dan Sastra Indonesia. https://t.co/wJic1b5PCw', 'Sentiment': 'Netral'}, {'tanggal_tweet': datetime.datetime(2020, 12, 16, 10, 30, 58), 'Nama_pengguna': 'mustcho_55555', 'isi_tweet': 'RT @hidcom: MUI Tolak Normalisasi dengan ‘Israel’, Tegaskan Indonesia Selamanya Menentang Penjajahan https://t.co/RCZX6l7wwy', 'Sentiment': 'Netral'}, {'tanggal_tweet': datetime.datetime(2020, 12, 16, 10, 30, 56), 'Nama_pengguna': 'DyandraAngelina', 'isi_tweet': 'Yang naik daun di indonesia\\nKpop\\nIkatan Cinta\\nIndonesia idol\\nStaycation oyo indonesia', 'Sentiment': 'Netral'}, {'tanggal_tweet': datetime.datetime(2020, 12, 16, 10, 30, 55), 'Nama_pengguna': 'dittameliaa', 'isi_tweet': 'RT @codex_telkom: MINDSIGHT terakhir tahun ini! Bakal ngebahas Data Science bersama Nabil Badjri (Vice President Data Science Indonesia), d…', 'Sentiment': 'Netral'}, {'tanggal_tweet': datetime.datetime(2020, 12, 16, 10, 30, 54), 'Nama_pengguna': 'idntimes', 'isi_tweet': 'Akumulasi golput di Pilkada Depok mencapai  481.016 suara\\n\\n#MillennialsMemilih https://t.co/KjMnxw2I48', 'Sentiment': 'Netral'}, {'tanggal_tweet': datetime.datetime(2020, 12, 16, 10, 30, 53), 'Nama_pengguna': 'Zeinhamidmailc1', 'isi_tweet': 'Presiden RI Jokowidodo memberitahukan Vaksin covit 19 Geratis bagi seluruh rakyat indonesia\\n#PresidenJokowi… https://t.co/OEj9H1tp7M', 'Sentiment': 'Netral'}, {'tanggal_tweet': datetime.datetime(2020, 12, 16, 10, 30, 48), 'Nama_pengguna': 'KhalidaMisbah', 'isi_tweet': 'FDN 2020 merupakan event bagian dari rangkaian kampanye #BanggaBuatanIndonesia yang diselenggarakan pemerintah untu… https://t.co/wsed6osIFA', 'Sentiment': 'Netral'}, {'tanggal_tweet': datetime.datetime(2020, 12, 16, 10, 30, 41), 'Nama_pengguna': 'Sallira_', 'isi_tweet': 'RT @TelkomIndonesia: Dengan tagline “Beli Satu, Tumbuh Seribu”, FDN mengajak seluruh bangsa Indonesia untuk merayakan kebanggaan terhadap p…', 'Sentiment': 'Netral'}, {'tanggal_tweet': datetime.datetime(2020, 12, 16, 10, 30, 40), 'Nama_pengguna': 'anfield_indo', 'isi_tweet': 'Pecahkan rekor gol tandang &gt;&gt; https://t.co/ggC9H7GMlN &lt;&lt;', 'Sentiment': 'Netral'}, {'tanggal_tweet': datetime.datetime(2020, 12, 16, 10, 30, 40), 'Nama_pengguna': 'TasyaSiagian1', 'isi_tweet': 'RT @forhacin: Halo, dalam rangka ulang tahun Kim Seokjin! Kami mengandakan event online &amp; offline. Online bisa diikuti oleh ARMY di Indones…', 'Sentiment': 'Netral'}, {'tanggal_tweet': datetime.datetime(2020, 12, 16, 10, 30, 35), 'Nama_pengguna': 'TasyaSiagian1', 'isi_tweet': 'RT @forhacin: Spoiler beberapa isi Moon Box (nanti masih ada tambahan isi). Box ini nanti disebar pada beberapa daerah di Indonesia, sepert…', 'Sentiment': 'Netral'}, {'tanggal_tweet': datetime.datetime(2020, 12, 16, 10, 30, 32), 'Nama_pengguna': 'idntimes', 'isi_tweet': 'Pemulihan korban terorisme adalah tanggung jawab negara https://t.co/cZUQridJf9', 'Sentiment': 'Netral'}, {'tanggal_tweet': datetime.datetime(2020, 12, 16, 10, 30, 30), 'Nama_pengguna': 'whysato2', 'isi_tweet': 'RT @hidcom: MUI Tolak Normalisasi dengan ‘Israel’, Tegaskan Indonesia Selamanya Menentang Penjajahan https://t.co/RCZX6l7wwy', 'Sentiment': 'Netral'}, {'tanggal_tweet': datetime.datetime(2020, 12, 16, 10, 30, 29), 'Nama_pengguna': 'brayhanzr', 'isi_tweet': 'RT @jawafess: Semoga uji coba vaksin di Indonesia tidak mengalami hal serupa Lur 🙏🏻 https://t.co/JxJGGUozTF', 'Sentiment': 'Netral'}, {'tanggal_tweet': datetime.datetime(2020, 12, 16, 10, 30, 22), 'Nama_pengguna': 'Singgihakbarp', 'isi_tweet': 'RT @blontankpoer: tahun depan, ILC berhenti tayang, semoga Indonesia jadi lebih adem. hanya Karni Ilyas yang membesarkan orang-orang menyeb…', 'Sentiment': 'Netral'}, {'tanggal_tweet': datetime.datetime(2020, 12, 16, 10, 30, 21), 'Nama_pengguna': 'kara2291', 'isi_tweet': 'RT @UmarChelsea75__: Menkes indonesia dari awal covid19 sampai suntik vaksin tetap saja diam. Sebenarnya kita ini punya menkes gak sih?', 'Sentiment': 'Netral'}, {'tanggal_tweet': datetime.datetime(2020, 12, 16, 10, 30, 20), 'Nama_pengguna': 'agus8876', 'isi_tweet': 'RT @imau_rokan: TKA2 CINA dilempari  pekerja Indonesia yg berdemo menuntut penyetaraan gaji  di PT.VDNI https://t.co/eblssbDqtw', 'Sentiment': 'Netral'}, {'tanggal_tweet': datetime.datetime(2020, 12, 16, 10, 30, 15), 'Nama_pengguna': 'AntonKu62463911', 'isi_tweet': '@SintaElvhee2_ MANTAP \\nSUDAH SAAT NYA \\n2 ABANG BERADIK \\nBEKERJASAMA.\\nSBG \\nGARDA TERDEPAN \\nUTK MENJAGA \\n\"KESATUAN &amp;… https://t.co/WmOTD9GoYp', 'Sentiment': 'Netral'}, {'tanggal_tweet': datetime.datetime(2020, 12, 16, 10, 30, 12), 'Nama_pengguna': 'KeeNand__', 'isi_tweet': '@EPerlok @apocalypsoblitz @detikhot Ni baca media Jerman, gk tak kasih bahasa inggris tapi bahasa Indonesia biar pa… https://t.co/kgERYqs4vT', 'Sentiment': 'Netral'}, {'tanggal_tweet': datetime.datetime(2020, 12, 16, 10, 30, 4), 'Nama_pengguna': 'BBcoid', 'isi_tweet': 'Amatil Indonesia Selenggarakan Pelatihan Pemberdayaan Masyarakat di Cikarang Barat https://t.co/3IEmMmt81V https://t.co/prUwxgtEly', 'Sentiment': 'Netral'}, {'tanggal_tweet': datetime.datetime(2020, 12, 16, 10, 30, 4), 'Nama_pengguna': 'SuperJuniorFast', 'isi_tweet': 'Shindong pernah nyapa ELF di Indonesia di account twitternya dan dia nulis ‘ELF Indonesia’ dan ‘Cinta Shindong’', 'Sentiment': 'Netral'}]\n"
     ]
    }
   ],
   "source": [
    "print(tweet_Netral)"
   ]
  },
  {
   "cell_type": "code",
   "execution_count": 103,
   "metadata": {},
   "outputs": [
    {
     "name": "stdout",
     "output_type": "stream",
     "text": [
      "[{'tanggal_tweet': datetime.datetime(2020, 12, 16, 10, 32, 3), 'Nama_pengguna': 'otosia', 'isi_tweet': 'Isuzu Panther Hilang dari Situs Resmi, Ini Sebabnya: Isuzu Indonesia akhirnya memberi keterangan terkait absennya I… https://t.co/wIhWWxpF88', 'Sentiment': 'Negative'}, {'tanggal_tweet': datetime.datetime(2020, 12, 16, 10, 31, 58), 'Nama_pengguna': 'Dede48158490', 'isi_tweet': '@Abay_1676 @Lady_Zeebo @aagym Perut Rasulullah di ganjal batu ketika menggali parit pd perang khandak adalah karena… https://t.co/nWKX7b7k2D', 'Sentiment': 'Negative'}, {'tanggal_tweet': datetime.datetime(2020, 12, 16, 10, 31, 25), 'Nama_pengguna': 'idilwiys', 'isi_tweet': 'RT @anwarfra: Ngeliat video terawan ngukur suhu di punggung tangan, membuatku semakin tidak berharap banyak terhadap penyelesaian pandemi d…', 'Sentiment': 'Negative'}, {'tanggal_tweet': datetime.datetime(2020, 12, 16, 10, 31, 22), 'Nama_pengguna': 'akunsudi', 'isi_tweet': 'RT @KawalCOVID19: Tes COVID-19 di Indonesia per 16 Desember 2020.\\n\\nRata-rata harian dalam 7 hari terakhir:\\n- Spesimen: 54.015\\n- Orang yang…', 'Sentiment': 'Negative'}, {'tanggal_tweet': datetime.datetime(2020, 12, 16, 10, 31, 9), 'Nama_pengguna': 'wsjambang', 'isi_tweet': 'RT @Hilmi28: Indonesia Darurat Akhlaq...jadi kalau ada yg menyerukan Revolusi Akhlaq apakah itu salah ?! https://t.co/RBUvINq82r', 'Sentiment': 'Negative'}, {'tanggal_tweet': datetime.datetime(2020, 12, 16, 10, 31, 3), 'Nama_pengguna': 'Ath1515', 'isi_tweet': 'RT @mohmahfudmd: Memahami keadilan itu sulit. Saat Mas Fahri Hamzah menang 30 M s-d di MA dlm gugatan pemecatan kpd PKS dia bilang, \"ada ke…', 'Sentiment': 'Negative'}, {'tanggal_tweet': datetime.datetime(2020, 12, 16, 10, 30, 59), 'Nama_pengguna': 'FaktaCadas', 'isi_tweet': 'Sselamat Malam Indonesia  #faktacadas', 'Sentiment': 'Negative'}, {'tanggal_tweet': datetime.datetime(2020, 12, 16, 10, 30, 51), 'Nama_pengguna': 'AdinaArjun', 'isi_tweet': 'RT @VIVAcoid: Utang Luar Negeri Indonesia Naik Lagi, Capai Rp5.828,9 Triliun https://t.co/z10rhaXnZz', 'Sentiment': 'Negative'}, {'tanggal_tweet': datetime.datetime(2020, 12, 16, 10, 30, 46), 'Nama_pengguna': 'musariez', 'isi_tweet': 'RT @Hilmi28: Indonesia Darurat Akhlaq...jadi kalau ada yg menyerukan Revolusi Akhlaq apakah itu salah ?! https://t.co/RBUvINq82r', 'Sentiment': 'Negative'}, {'tanggal_tweet': datetime.datetime(2020, 12, 16, 10, 30, 46), 'Nama_pengguna': 'dreamxxn', 'isi_tweet': 'Coba aja indonesia kaya korea yang ga ngebolehin anak dibawah umur beli rokok,gila brou tentram banget idup gua gabakal disuruh suruh', 'Sentiment': 'Negative'}, {'tanggal_tweet': datetime.datetime(2020, 12, 16, 10, 30, 14), 'Nama_pengguna': 'imamsyyuhada', 'isi_tweet': '@TirtoID Warga indonesia tinggal setengah persen, sisanya di penjara', 'Sentiment': 'Negative'}, {'tanggal_tweet': datetime.datetime(2020, 12, 16, 10, 30, 11), 'Nama_pengguna': 'AisyaSa21998457', 'isi_tweet': 'RT @Hilmi28: Indonesia Darurat Akhlaq...jadi kalau ada yg menyerukan Revolusi Akhlaq apakah itu salah ?! https://t.co/RBUvINq82r', 'Sentiment': 'Negative'}]\n"
     ]
    }
   ],
   "source": [
    "print(tweet_Negative)"
   ]
  },
  {
   "cell_type": "code",
   "execution_count": 104,
   "metadata": {},
   "outputs": [
    {
     "name": "stdout",
     "output_type": "stream",
     "text": [
      "Hasil Sentiment Adalah\n",
      "Tweet Positif :  45 (45.0%)\n",
      "Tweet Netral :  43 (43.0%)\n",
      "Tweet Negative :  12 (12.0%)\n"
     ]
    }
   ],
   "source": [
    "print('Hasil Sentiment Adalah')\n",
    "print('Tweet Positif : ',len(tweet_Positif), '({}%)'.format(100*(len(tweet_Positif)/len(hasilAnalisis))))\n",
    "print('Tweet Netral : ',len(tweet_Netral), '({}%)'.format(100*(len(tweet_Netral)/len(hasilAnalisis))))\n",
    "print('Tweet Negative : ',len(tweet_Negative), '({}%)'.format(100*(len(tweet_Negative)/len(hasilAnalisis))))"
   ]
  },
  {
   "cell_type": "code",
   "execution_count": 30,
   "metadata": {},
   "outputs": [
    {
     "name": "stdout",
     "output_type": "stream",
     "text": [
      "CephGriffith TWEET RT @GAIGriffith: 💬 @drdickybudiman @CephGriffith comments on COVID-19 burials in Indonesia's capital Jakarta:\n",
      "\n",
      "“After almost 10 months, the…\n",
      "ryoasxka TWEET @kuboyasew and that's on Indonesia\n",
      "nasgorgeeky TWEET RT @nuicemedia: President Jokowi just announced that Covid-19 vaccines will be free for Indonesians, following public pressure on the issue…\n",
      "astronutt_ TWEET RT @nuicemedia: President Jokowi just announced that Covid-19 vaccines will be free for Indonesians, following public pressure on the issue…\n",
      "chocheesejin_ TWEET RT @nuicemedia: President Jokowi just announced that Covid-19 vaccines will be free for Indonesians, following public pressure on the issue…\n",
      "lanimaheya TWEET RT @nuicemedia: President Jokowi just announced that Covid-19 vaccines will be free for Indonesians, following public pressure on the issue…\n",
      "icaalk TWEET RT @nuicemedia: President Jokowi just announced that Covid-19 vaccines will be free for Indonesians, following public pressure on the issue…\n",
      "ifkasy TWEET RT @nuicemedia: President Jokowi just announced that Covid-19 vaccines will be free for Indonesians, following public pressure on the issue…\n",
      "dazlingstaars TWEET RT @nuicemedia: President Jokowi just announced that Covid-19 vaccines will be free for Indonesians, following public pressure on the issue…\n",
      "hwgshxxlace5 TWEET @LiuyeBF Indonesia, english, and rarely spanish:))\n",
      "jhoaexo TWEET @peachbaekki Hi, my name is bee. From indonesia\n",
      "TeukuHawis TWEET RT @nuicemedia: President Jokowi just announced that Covid-19 vaccines will be free for Indonesians, following public pressure on the issue…\n",
      "lyndaibrahim TWEET RT @nuicemedia: President Jokowi just announced that Covid-19 vaccines will be free for Indonesians, following public pressure on the issue…\n",
      "kook_log TWEET RT @nuicemedia: President Jokowi just announced that Covid-19 vaccines will be free for Indonesians, following public pressure on the issue…\n",
      "HanHyeSeok TWEET RT @lightguideus: Heechul : calling SM founder as lee soman oppa\n",
      "\n",
      "Leeteuk : calling Indonesia president “hyung” \n",
      "\n",
      "Whats with these 83line 😭😂\n",
      "nabilalalat TWEET RT @AinieHaziqah: I have a story to share. Semalam, I visited a family to send sumbangan. The father met into an accident and can't work. T…\n",
      "QueMariz TWEET RT @actressJicho: Jisoo is trending #13 in Indonesia. As she should. I can't believe it, SNOWDROP IS REAL Y'ALL 😭\n",
      "\n",
      "블랙핑크 지수 #지수 #블랙핑크   #블랙핑…\n",
      "dsdjws_ TWEET RT @nuicemedia: President Jokowi just announced that Covid-19 vaccines will be free for Indonesians, following public pressure on the issue…\n",
      "oktavvvvvvv TWEET RT @nuicemedia: President Jokowi just announced that Covid-19 vaccines will be free for Indonesians, following public pressure on the issue…\n",
      "ymiyunho TWEET e - indonesia thailand vietnam https://t.co/LoRGwUY8VW\n",
      "elvin_adham TWEET It’s a great start for these giant companies to flock to Indonesia. There will be more job opportunities. It’s a gr… https://t.co/AIDBsB9ZLF\n",
      "_anissazmi TWEET RT @AinieHaziqah: I have a story to share. Semalam, I visited a family to send sumbangan. The father met into an accident and can't work. T…\n",
      "suriaxx TWEET RT @yallayalladin: More corruption and cronyism stories by @MuhyiddinYassin government. Along with @tzafrul_aziz \n",
      "\n",
      "I genuinely have lost fa…\n",
      "ramdh TWEET RT @nuicemedia: President Jokowi just announced that Covid-19 vaccines will be free for Indonesians, following public pressure on the issue…\n",
      "CoconutsJakarta TWEET President Joko Widodo also said that he will be the very first person to be administered the #COVID19 vaccine once… https://t.co/rGQ9ijWV7R\n",
      "ymiyunho TWEET e - indonesia thailand cambodia https://t.co/LoRGwUY8VW\n",
      "rraaafi TWEET Indonesia music nowadays \n",
      " : love but make it sad 🥰🥰🥰\n",
      "AmerFareed TWEET And people are talking about how backwards Malaysia will be when global brands like Amazon &amp; Tesla prefer investing… https://t.co/1JLO9SxgJ4\n",
      "KrnMkita TWEET RT @sihksihk: Fuck Indonesia I’m moving to bekasi\n",
      "bubblegummyuu TWEET RT @nuicemedia: President Jokowi just announced that Covid-19 vaccines will be free for Indonesians, following public pressure on the issue…\n",
      "leianashleyv2 TWEET RT @yndmbrk: ❗️SCAMMER ❗️( help rt to spread)\n",
      "\n",
      "be aware of @/gorgmaknae_ i bought a 1 yr netflix account from her and the passwords changed…\n",
      "ColliersIDN TWEET Colliers International Indonesia Office Services team offers you the opportunity to sublease an office space that l… https://t.co/wI8Ho8pUkf\n",
      "ssicajess TWEET RT @nuicemedia: President Jokowi just announced that Covid-19 vaccines will be free for Indonesians, following public pressure on the issue…\n",
      "jiwooymi TWEET D INDONESIA THAILAND CAMBODIA https://t.co/gI1WstKT1p\n",
      "slowlyFN TWEET @27Rise ya we're enslaved by social/political structures we created as a society but theres literally nothing stopp… https://t.co/whaVcI35Gx\n",
      "Bapakaohijau TWEET imagine being born with us12/13 feet in Indonesia\n",
      "ymihyejoo TWEET MALAYSIA, UH UH UH INDONESIA. FUCK IM HAVING A MENTAL BREAKDOWN   thailanD https://t.co/0HvKiC8D60\n",
      "milezaharries TWEET RT @nuicemedia: President Jokowi just announced that Covid-19 vaccines will be free for Indonesians, following public pressure on the issue…\n",
      "ismailsunni TWEET RT @nuicemedia: President Jokowi just announced that Covid-19 vaccines will be free for Indonesians, following public pressure on the issue…\n",
      "itaaaw TWEET RT @nuicemedia: President Jokowi just announced that Covid-19 vaccines will be free for Indonesians, following public pressure on the issue…\n",
      "EzaHalla TWEET RT @nuicemedia: President Jokowi just announced that Covid-19 vaccines will be free for Indonesians, following public pressure on the issue…\n",
      "weatherlies_bot TWEET It is 35.0% humid in Medalem, Indonesia right now.\n",
      "fransiratna TWEET RT @nuicemedia: President Jokowi just announced that Covid-19 vaccines will be free for Indonesians, following public pressure on the issue…\n",
      "NormaNjean1219 TWEET RT @erinmoon72: What would you title this video? 🐎 Sumba Island, Indonesia 🇮🇩 Have you been? Would you visit? 🌴 https://t.co/gnjVX9JNKs\n",
      "taehyungymi TWEET s thailand vietnam indonesia https://t.co/wFzQsefaSt\n",
      "tunbaek TWEET RT @nuicemedia: President Jokowi just announced that Covid-19 vaccines will be free for Indonesians, following public pressure on the issue…\n",
      "vavadjavu TWEET RT @nuicemedia: President Jokowi just announced that Covid-19 vaccines will be free for Indonesians, following public pressure on the issue…\n",
      "kaidante_ TWEET RT @nuicemedia: President Jokowi just announced that Covid-19 vaccines will be free for Indonesians, following public pressure on the issue…\n",
      "YRachmania TWEET RT @nuicemedia: President Jokowi just announced that Covid-19 vaccines will be free for Indonesians, following public pressure on the issue…\n",
      "luviesgoturback TWEET RT @WORLDMUSICAWARD: 🔝🔟SONGS IN INDONESIA🇮🇩\n",
      "1⃣Future - #RedVelvet\n",
      "2⃣Melukis Senja #BudiDoremi\n",
      "3⃣Life Goes On - #BTS\n",
      "4⃣Day &amp; Night #JungSeun…\n",
      "bilargya TWEET RT @nuicemedia: President Jokowi just announced that Covid-19 vaccines will be free for Indonesians, following public pressure on the issue…\n",
      "ilhamfbrynt TWEET RT @sihksihk: Fuck Indonesia I’m moving to bekasi\n",
      "tae_oran TWEET RT @nuicemedia: President Jokowi just announced that Covid-19 vaccines will be free for Indonesians, following public pressure on the issue…\n",
      "DOCasBAC TWEET @thequentinletts How very narrowly Anglocentric of you. No surprise.\n",
      "\n",
      "It would answer you better to consider a sche… https://t.co/nKlQlklFB4\n",
      "pratiwidyamurti TWEET RT @nuicemedia: President Jokowi just announced that Covid-19 vaccines will be free for Indonesians, following public pressure on the issue…\n",
      "AzlyHaziq TWEET RT @alya_farhanah: Remember the Omnibus Law? Where thousand of ppl in Indonesia were protesting?\n",
      "\n",
      "Well that law passed effectively allowing…\n",
      "chikibaIIs TWEET RT @nuicemedia: President Jokowi just announced that Covid-19 vaccines will be free for Indonesians, following public pressure on the issue…\n",
      "jinsoulymi TWEET S Indonesia Thailand and Cambodia https://t.co/vG6fZDjxyl\n",
      "theloopss TWEET RT @restyworo: Indonesia is really keen to get Tesla to invest that Jokowi called Elon Musk directly last week as Luhut failed to meet him…\n",
      "yumiiyz TWEET @abcdefinn Im sorry for being indonesia, is not my fault:(\n",
      "Enricodenis TWEET RT @apathoni: This is bizarre. How can you prove that someone lied about his dream? We can't even dream now? In Jokowi's Indonesia, even dr…\n",
      "themid8sun TWEET RT @IngieCS: Meanwhile in Indonesia 👇🏻 https://t.co/Cdd1I9j0eV\n",
      "granddarmosuite TWEET MARRY CHRISTMAS and enjoy with yoyr special moment here with THE JOY at @granddarmosuite  amithya -we serve better… https://t.co/gEjhopn1RZ\n",
      "kimalimnida TWEET RT @nuicemedia: President Jokowi just announced that Covid-19 vaccines will be free for Indonesians, following public pressure on the issue…\n",
      "elbonitaa TWEET RT @nuicemedia: President Jokowi just announced that Covid-19 vaccines will be free for Indonesians, following public pressure on the issue…\n",
      "AydiLia TWEET RT @nuicemedia: President Jokowi just announced that Covid-19 vaccines will be free for Indonesians, following public pressure on the issue…\n",
      "_tybaba TWEET RT @alya_farhanah: Remember the Omnibus Law? Where thousand of ppl in Indonesia were protesting?\n",
      "\n",
      "Well that law passed effectively allowing…\n",
      "Fursdart TWEET RT @EinhardAlaric: Hololive Indonesia🇮🇩🇮🇩\n",
      "It took time to finish, but I did it!\n",
      "\n",
      "#GambaRisu #ioarts #HoshinovArt \n",
      "#graveyART #anyatelier #R…\n",
      "lafilleautumn TWEET RT @nuicemedia: President Jokowi just announced that Covid-19 vaccines will be free for Indonesians, following public pressure on the issue…\n",
      "ndllalf TWEET RT @nuicemedia: President Jokowi just announced that Covid-19 vaccines will be free for Indonesians, following public pressure on the issue…\n",
      "unvilbbhls TWEET RT @nuicemedia: President Jokowi just announced that Covid-19 vaccines will be free for Indonesians, following public pressure on the issue…\n",
      "Ramabsurd TWEET RT @nuicemedia: President Jokowi just announced that Covid-19 vaccines will be free for Indonesians, following public pressure on the issue…\n",
      "Deimos1313 TWEET RT @Ilovetempe: Hello #ArtistsofSEA! My name is Aisha and I'm from Indonesia🇮🇩\n",
      "Currently still an animation student but my passion is mostl…\n",
      "_ladyyun TWEET RT @alya_farhanah: Remember the Omnibus Law? Where thousand of ppl in Indonesia were protesting?\n",
      "\n",
      "Well that law passed effectively allowing…\n",
      "SitiAishahSedek TWEET RT @AinieHaziqah: I have a story to share. Semalam, I visited a family to send sumbangan. The father met into an accident and can't work. T…\n",
      "fitrirah1426 TWEET RT @nuicemedia: President Jokowi just announced that Covid-19 vaccines will be free for Indonesians, following public pressure on the issue…\n",
      "JJK_INDONESIA TWEET [PHOTO] BTS SEASON GREETINGS 2021 | Jungkook\n",
      "\n",
      "#Jungkook #BTS @BTS_twt\n",
      " \n",
      "©Jungkook_IntI https://t.co/ih46Hrs5Vr\n",
      "alfathanam TWEET RT @sihksihk: Fuck Indonesia I’m moving to bekasi\n",
      "astroooostan TWEET RT @ASTROTrends_: 📍[ TRENDING UPDATE ] 📈\n",
      "\n",
      "moonbin real-time trending:\n",
      "\n",
      "42. Worldwide 🌎🌍🌏\n",
      "1. Malaysia\n",
      "3. Philippines \n",
      "5. Singapore\n",
      "8. Argent…\n",
      "etraaaaaaa TWEET RT @nuicemedia: President Jokowi just announced that Covid-19 vaccines will be free for Indonesians, following public pressure on the issue…\n",
      "phibait TWEET RT @nuicemedia: President Jokowi just announced that Covid-19 vaccines will be free for Indonesians, following public pressure on the issue…\n",
      "Radja_Nusa TWEET RT @k_colonialism: Save the Children told donors that in Indonesia, children getting its Literacy Boost program \"recorded a three-fold incr…\n",
      "an_zaldi TWEET RT @nuicemedia: President Jokowi just announced that Covid-19 vaccines will be free for Indonesians, following public pressure on the issue…\n",
      "dropurdarkness TWEET RT @nuicemedia: President Jokowi just announced that Covid-19 vaccines will be free for Indonesians, following public pressure on the issue…\n",
      "aliansitirexxxx TWEET RT @apathoni: This is bizarre. How can you prove that someone lied about his dream? We can't even dream now? In Jokowi's Indonesia, even dr…\n",
      "PKSAceh_ TWEET Just posted a photo @ Banda Aceh, Indonesia https://t.co/Pz0sISgr4f\n",
      "RIP_my_son TWEET @AkbarYoso @t_suryaputra @UngeMelati @LydiaHermina @fairuz_salwa @Feb_79 @Kayra_Irish @Nungky2501 @justqnooy… https://t.co/2aqWXNuhDr\n",
      "saktikasti TWEET RT @nuicemedia: President Jokowi just announced that Covid-19 vaccines will be free for Indonesians, following public pressure on the issue…\n",
      "fourgetmenott TWEET RT @nuicemedia: President Jokowi just announced that Covid-19 vaccines will be free for Indonesians, following public pressure on the issue…\n",
      "Lonely_ysh TWEET RT @ASTROTrends_: 📍[ TRENDING UPDATE ] 📈\n",
      "\n",
      "moonbin real-time trending:\n",
      "\n",
      "42. Worldwide 🌎🌍🌏\n",
      "1. Malaysia\n",
      "3. Philippines \n",
      "5. Singapore\n",
      "8. Argent…\n",
      "kyunis91 TWEET RT @nuicemedia: President Jokowi just announced that Covid-19 vaccines will be free for Indonesians, following public pressure on the issue…\n",
      "indoymiekuah TWEET RT @nuicemedia: President Jokowi just announced that Covid-19 vaccines will be free for Indonesians, following public pressure on the issue…\n",
      "SadpersonArtme TWEET RT @EVSS1485: #KAI thanking EXO-Ls for supporting him and mentioned Ls from countries in Indonesia, Korea, Philippines, US, &amp; Mexico who su…\n",
      "lolita_lolo TWEET RT @nuicemedia: President Jokowi just announced that Covid-19 vaccines will be free for Indonesians, following public pressure on the issue…\n",
      "Seunforjesus TWEET RT @APCNigeria: COUNTRY, Population | Prisoners\n",
      "\n",
      "US: 329m | 2.09m\n",
      "China: 1.42b | 1.71m\n",
      "India: 1.39b | 479K\n",
      "Indonesia: 270m | 244K\n",
      "Brazil: 2…\n",
      "harutokore TWEET i just realized that they/them, she/they, he/they and neopronouns arent a big deal in indonesia and shouldnt bcuz we just use \"dia\" 😐\n",
      "actressJicho TWEET Jisoo is trending #13 in Indonesia. As she should. I can't believe it, SNOWDROP IS REAL Y'ALL 😭\n",
      "\n",
      "블랙핑크 지수 #지수 #블랙핑크 … https://t.co/LUNY94mqxP\n",
      "Nazmesque TWEET RT @alya_farhanah: Remember the Omnibus Law? Where thousand of ppl in Indonesia were protesting?\n",
      "\n",
      "Well that law passed effectively allowing…\n",
      "citrarng TWEET RT @nuicemedia: President Jokowi just announced that Covid-19 vaccines will be free for Indonesians, following public pressure on the issue…\n",
      "Junhee07 TWEET RT @nuicemedia: President Jokowi just announced that Covid-19 vaccines will be free for Indonesians, following public pressure on the issue…\n"
     ]
    }
   ],
   "source": [
    "for tweet in hasilSearch:\n",
    "    print(tweet.user.screen_name, 'TWEET',tweet.text)"
   ]
  },
  {
   "cell_type": "code",
   "execution_count": 31,
   "metadata": {},
   "outputs": [],
   "source": [
    "#pull data based on twitter ID\n",
    "hasilUser = api.user_timeline(id='Jokowi', lang='en', count=10) #count itu banyak jumlah tweet"
   ]
  },
  {
   "cell_type": "code",
   "execution_count": 32,
   "metadata": {},
   "outputs": [
    {
     "name": "stdout",
     "output_type": "stream",
     "text": [
      "Namun, aparat harus mengikuti aturan hukum, HAM, dan menggunakan kewenangannya secara wajar dan terukur.\n",
      "\n",
      "Jika terd… https://t.co/Hj81k6BWt4\n",
      "Masyarakat tidak boleh bertindak semena-mena dan melakukan perbuatan melanggar hukum yang merugikan masyarakat, apa… https://t.co/sMi52j9hyh\n",
      "Di tengah upaya kita menangani pandemi, terjadi peristiwa lain seperti tewasnya empat warga di Sigi dan enam anggot… https://t.co/8fRVLZkchy\n",
      "Pandemi ini belum berakhir. Mungkin ada rasa bosan. Mungkin ada kerinduan. Kepada teman-teman, kepada kerabat, kepa… https://t.co/7nNhzjR9Zf\n",
      "Suasana masih pandemi, tapi kehidupan tetap harus berjalan. Ada yang harus tetap bekerja dan bepergian. Jika terpak… https://t.co/I4bY8jcuiZ\n",
      "Pilkada serentak di 270 daerah pada 9 Desember ini menghadapi tantangan sendiri karena digelar di era pandemi. Sela… https://t.co/8WtmhuZq9d\n",
      "Terakhir, meski vaksin sudah ada, kita tetap harus disiplin menjalankan protokol kesehatan, memakai masker, menjaga… https://t.co/LJ8hmwF7y4\n",
      "Untuk memulai vaksinasi kita masih memerlukan tahapan yang ketat BPOM. Seluruh prosedur ilmiah harus dilalui dengan… https://t.co/Xl1NEmHfad\n",
      "Sebanyak 1,2 juta dosis vaksin Covid-19 buatan Sinovac tiba semalam. Bulan depan, Insya Allah akan datang 1,8 juta… https://t.co/xqtRXu7yIc\n",
      "Seorang pejabat negara seharusnya menciptakan sistem yang menutup celah terjadinya korupsi baik untuk APBN maupun A… https://t.co/ujlhqH0uyX\n"
     ]
    }
   ],
   "source": [
    "for tweet in hasilUser:\n",
    "    print(tweet.text)"
   ]
  }
 ],
 "metadata": {
  "kernelspec": {
   "display_name": "Python 3",
   "language": "python",
   "name": "python3"
  },
  "language_info": {
   "codemirror_mode": {
    "name": "ipython",
    "version": 3
   },
   "file_extension": ".py",
   "mimetype": "text/x-python",
   "name": "python",
   "nbconvert_exporter": "python",
   "pygments_lexer": "ipython3",
   "version": "3.8.6"
  }
 },
 "nbformat": 4,
 "nbformat_minor": 4
}
